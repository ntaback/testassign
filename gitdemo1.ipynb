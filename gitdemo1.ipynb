{
 "cells": [
  {
   "cell_type": "markdown",
   "metadata": {},
   "source": [
    "# Github Demo\n",
    "\n",
    "1. Go to the github classroom link.\n",
    "\n",
    "2. Make sure you and your partner both have access to the repo.\n",
    "\n",
    "3. Clone the repo. on your computer.\n",
    "\n",
    "4. Create a new branch with `git branch [your-name]`, where `your-name` is your first name.\n",
    "\n",
    "5. Checkout the branch with `git checkout -b [your-name]`.\n",
    "\n",
    "6. Push the branch to Github: `git push origin [your_name]`\n",
    "\n",
    "7. \n",
    "\n",
    "6. Add the notebook with `git add gitdemo1.ipynb`\n",
    "\n",
    "6. Commit the notebook: `git commit -a -m gitdemo.ipynb`.\n",
    "\n",
    "7. (I) One one person's computer: Work with your partner to modify the interactive plot for the normal distribution below to create an interactive plot of [Student's t distribution](https://docs.scipy.org/doc/scipy/reference/generated/scipy.stats.t.html#scipy.stats.t).  Write the Python code for Student's t in another code cell. (II) On the other person's computer: create a markdown cell with a few sentences to describe what the interactive plots show.\n",
    "\n",
    "9. Each person should commit the notebook to their branches.\n",
    "\n",
    "10. Each person should open a pull request.  Give you pull request a title with a brief description.\n",
    "\n",
    "11. Look over the changes in the diffs and makes sure they're what you want to submit.\n",
    "\n",
    "12. \n",
    "\n"
   ]
  },
  {
   "cell_type": "code",
   "execution_count": 1,
   "metadata": {},
   "outputs": [
    {
     "data": {
      "application/vnd.jupyter.widget-view+json": {
       "model_id": "c3444c2592b148a993c9be9e93476baa",
       "version_major": 2,
       "version_minor": 0
      },
      "text/plain": [
       "interactive(children=(IntSlider(value=1, description='mean', max=7), IntSlider(value=1, description='sd', max=…"
      ]
     },
     "metadata": {},
     "output_type": "display_data"
    },
    {
     "data": {
      "application/vnd.jupyter.widget-view+json": {
       "model_id": "297519eab8674e8a82154a8f576ae18b",
       "version_major": 2,
       "version_minor": 0
      },
      "text/plain": [
       "HTML(value='<b>Drag the slider to explore different normal distributions</b>')"
      ]
     },
     "metadata": {},
     "output_type": "display_data"
    }
   ],
   "source": [
    "from ipywidgets import interact\n",
    "import ipywidgets as widgets\n",
    "from scipy.stats import norm\n",
    "import matplotlib.pyplot as plt\n",
    "import numpy as np\n",
    "\n",
    "def plotnorm(mean,sd):\n",
    "    fig, ax = plt.subplots()\n",
    "    x0 = np.linspace(norm.ppf(0.01, loc = 0, scale = 1),norm.ppf(0.99, loc = 0, scale = 1), 100)\n",
    "    x = np.linspace(norm.ppf(0.01, loc = mean, scale = sd),norm.ppf(0.99, loc = mean, scale = sd), 100)\n",
    "    plt.plot(x0, norm.pdf(x0, loc = 0, scale =1), lw=5, alpha=0.6, label='N(0,1)')\n",
    "    plt.legend()\n",
    "    plt.plot(x, norm.pdf(x, loc = mean, scale =sd), lw=5, alpha=0.6, label=r'N($\\mu, \\sigma^2)$')\n",
    "    plt.legend()\n",
    "    \n",
    "    plt.axvline(x=0, color = 'red')\n",
    "    plt.axvline(x=mean)\n",
    "    #plt.show()\n",
    "\n",
    "\n",
    "interact(plotnorm, mean = widgets.IntSlider(value=1, min=0, max=7, step=1),\n",
    "                   sd = widgets.IntSlider(value=1, min=1, max=5, step=1))\n",
    "\n",
    "widgets.HTML(\n",
    "    value=\"<b>Drag the slider to explore different normal distributions</b>\",\n",
    ")"
   ]
  },
  {
   "cell_type": "code",
   "execution_count": 2,
   "metadata": {},
   "outputs": [
    {
     "data": {
      "application/vnd.jupyter.widget-view+json": {
       "model_id": "693e669d97114cda89525dd53aa9c32c",
       "version_major": 2,
       "version_minor": 0
      },
      "text/plain": [
       "interactive(children=(IntSlider(value=1, description='mean', max=20), IntSlider(value=1, description='sd', max…"
      ]
     },
     "metadata": {},
     "output_type": "display_data"
    },
    {
     "data": {
      "application/vnd.jupyter.widget-view+json": {
       "model_id": "7e9df56311be4dc49db1e79b0fbb80e6",
       "version_major": 2,
       "version_minor": 0
      },
      "text/plain": [
       "HTML(value='<b>Drag the slider to explore different t distributions</b>')"
      ]
     },
     "metadata": {},
     "output_type": "display_data"
    }
   ],
   "source": [
    "from ipywidgets import interact\n",
    "import ipywidgets as widgets\n",
    "from scipy.stats import t\n",
    "import matplotlib.pyplot as plt\n",
    "import numpy as np\n",
    "\n",
    "def plott(mean,sd, df):\n",
    "    fig, ax = plt.subplots()\n",
    "    x0 = np.linspace(t.ppf(0.01, df = 1, loc = 0, scale = 1),t.ppf(0.99,df=1, loc = 0, scale = 1), 100)\n",
    "    x = np.linspace(t.ppf(0.01, df = df, loc = mean, scale = sd),t.ppf(0.99, df=df, loc = mean, scale = sd), 100)\n",
    "    plt.plot(x0, t.pdf(x0, df=1, loc = 0, scale =1), lw=5, alpha=0.6, label=r'$t_{1}$')\n",
    "    plt.legend()\n",
    "    plt.plot(x, t.pdf(x, df=df, loc = mean, scale =sd), lw=5, alpha=0.6, label=r'$t_{\\nu}$')\n",
    "    plt.legend()\n",
    "    \n",
    "    plt.axvline(x=0, color = 'red')\n",
    "    plt.axvline(x=mean)\n",
    "    #plt.show()\n",
    "\n",
    "\n",
    "interact(plott, mean = widgets.IntSlider(value=1, min=0, max=20, step=1),\n",
    "                   sd = widgets.IntSlider(value=1, min=1, max=5, step=1),\n",
    "                   df = widgets.IntSlider(value=1, min=1, max=30, step=1))\n",
    "\n",
    "widgets.HTML(\n",
    "    value=\"<b>Drag the slider to explore different t distributions</b>\",\n",
    ")"
   ]
  },
  {
   "cell_type": "code",
   "execution_count": null,
   "metadata": {},
   "outputs": [],
   "source": []
  }
 ],
 "metadata": {
  "hide_input": false,
  "kernelspec": {
   "display_name": "Python 3",
   "language": "python",
   "name": "python3"
  },
  "language_info": {
   "codemirror_mode": {
    "name": "ipython",
    "version": 3
   },
   "file_extension": ".py",
   "mimetype": "text/x-python",
   "name": "python",
   "nbconvert_exporter": "python",
   "pygments_lexer": "ipython3",
   "version": "3.7.6"
  }
 },
 "nbformat": 4,
 "nbformat_minor": 2
}
